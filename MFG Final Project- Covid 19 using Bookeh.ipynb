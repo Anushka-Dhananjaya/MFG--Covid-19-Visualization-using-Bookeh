{
 "cells": [
  {
   "cell_type": "code",
   "execution_count": 17,
   "id": "2f2c90bf",
   "metadata": {},
   "outputs": [
    {
     "name": "stderr",
     "output_type": "stream",
     "text": [
      "C:\\Users\\anush\\AppData\\Local\\Temp\\ipykernel_2228\\2031625460.py:36: SettingWithCopyWarning: \n",
      "A value is trying to be set on a copy of a slice from a DataFrame.\n",
      "Try using .loc[row_indexer,col_indexer] = value instead\n",
      "\n",
      "See the caveats in the documentation: https://pandas.pydata.org/pandas-docs/stable/user_guide/indexing.html#returning-a-view-versus-a-copy\n",
      "  pie_data['angle'] = pie_data['Confirmed']/pie_data['Confirmed'].sum() * 2*pi\n",
      "C:\\Users\\anush\\AppData\\Local\\Temp\\ipykernel_2228\\2031625460.py:37: SettingWithCopyWarning: \n",
      "A value is trying to be set on a copy of a slice from a DataFrame.\n",
      "Try using .loc[row_indexer,col_indexer] = value instead\n",
      "\n",
      "See the caveats in the documentation: https://pandas.pydata.org/pandas-docs/stable/user_guide/indexing.html#returning-a-view-versus-a-copy\n",
      "  pie_data['color'] = Category20c[len(pie_data)]\n"
     ]
    }
   ],
   "source": [
    "import pandas as pd\n",
    "from bokeh.plotting import figure, show, output_file, row\n",
    "from bokeh.models import ColumnDataSource, HoverTool\n",
    "from bokeh.transform import cumsum\n",
    "from bokeh.palettes import Category20c\n",
    "from math import pi\n",
    "\n",
    "# Loading datasets\n",
    "complete_data = pd.read_csv('covid_19_clean_complete.csv')\n",
    "country_latest_data = pd.read_csv('country_wise_latest.csv')\n",
    "day_wise_data = pd.read_csv('day_wise.csv')\n",
    "\n",
    "# Preprocessing data\n",
    "complete_data['Date'] = pd.to_datetime(complete_data['Date'])\n",
    "country_latest_data.fillna(0, inplace=True)\n",
    "day_wise_data['Date'] = pd.to_datetime(day_wise_data['Date'])\n",
    "\n",
    "# Plotting a line graph for global daily confirmed cases\n",
    "line_source = ColumnDataSource(day_wise_data)\n",
    "line_figure = figure(title='Global Daily Confirmed Cases', x_axis_type='datetime')\n",
    "line_figure.line(x='Date', y='Confirmed', source=line_source)\n",
    "# hiding grid lines\n",
    "line_figure.xgrid.visible = False\n",
    "line_figure.ygrid.visible = False\n",
    "\n",
    "# Adding hover tool for line graph\n",
    "hover_tool = HoverTool(tooltips=[\n",
    "    (\"Date\", \"@Date{%F}\"),  # '%F' is the shorthand for 'YYYY-MM-DD'\n",
    "    (\"Confirmed\", \"@Confirmed{0,0}\")  # formats the number with commas\n",
    "], formatters={'@Date': 'datetime'}, mode='vline')\n",
    "line_figure.add_tools(hover_tool)\n",
    "\n",
    "# Plotting a pie chart for the latest total confirmed cases by country\n",
    "country_latest_data = country_latest_data.sort_values(by='Confirmed', ascending=False).head(10)\n",
    "pie_data = country_latest_data[['Country/Region', 'Confirmed']]\n",
    "pie_data['angle'] = pie_data['Confirmed']/pie_data['Confirmed'].sum() * 2*pi\n",
    "pie_data['color'] = Category20c[len(pie_data)]\n",
    "pie_figure = figure(title='COVID-19 Confirmed Cases by Country', x_range=(-0.5, 1.0))\n",
    "pie_figure.wedge(x=0, y=1, radius=0.4, start_angle=cumsum('angle', include_zero=True), end_angle=cumsum('angle'),\n",
    "                 line_color=\"white\", fill_color='color', legend_field='Country/Region', source=pie_data)\n",
    "# hiding axes and grid lines\n",
    "pie_figure.xaxis.visible = False\n",
    "pie_figure.yaxis.visible = False\n",
    "pie_figure.xgrid.visible = False\n",
    "pie_figure.ygrid.visible = False\n",
    "\n",
    "# Plotting a bar graph for the latest total deaths by country\n",
    "bar_data = country_latest_data[['Country/Region', 'Deaths']]\n",
    "bar_data = bar_data.sort_values(by='Deaths', ascending=False).head(10)\n",
    "bar_source = ColumnDataSource(bar_data)\n",
    "bar_figure = figure(title='COVID-19 Deaths by Country', x_range=bar_data['Country/Region'].tolist(), toolbar_location=None)\n",
    "bar_figure.vbar(x='Country/Region', top='Deaths', width=0.9, source=bar_source)\n",
    "# hiding grid lines\n",
    "bar_figure.xgrid.visible = False\n",
    "bar_figure.ygrid.visible = False\n",
    "\n",
    "# Output file\n",
    "output_file('covid_visualizations.html')\n",
    "\n",
    "# Showing the plots\n",
    "show(row(line_figure, pie_figure, bar_figure))"
   ]
  },
  {
   "cell_type": "code",
   "execution_count": null,
   "id": "67c282be",
   "metadata": {},
   "outputs": [],
   "source": []
  },
  {
   "cell_type": "code",
   "execution_count": null,
   "id": "5f9665ea",
   "metadata": {},
   "outputs": [],
   "source": []
  },
  {
   "cell_type": "code",
   "execution_count": null,
   "id": "40bf71ae",
   "metadata": {},
   "outputs": [],
   "source": []
  }
 ],
 "metadata": {
  "kernelspec": {
   "display_name": "Python 3 (ipykernel)",
   "language": "python",
   "name": "python3"
  },
  "language_info": {
   "codemirror_mode": {
    "name": "ipython",
    "version": 3
   },
   "file_extension": ".py",
   "mimetype": "text/x-python",
   "name": "python",
   "nbconvert_exporter": "python",
   "pygments_lexer": "ipython3",
   "version": "3.11.5"
  }
 },
 "nbformat": 4,
 "nbformat_minor": 5
}
